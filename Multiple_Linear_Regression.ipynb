{
 "cells": [
  {
   "cell_type": "code",
   "execution_count": 1,
   "metadata": {},
   "outputs": [],
   "source": [
    "import pandas as pd\n",
    "import numpy as np\n",
    "import matplotlib.pyplot as plt\n",
    "from sklearn import linear_model\n",
    "import math\n",
    "from scipy import stats\n",
    "from mpl_toolkits.mplot3d import Axes3D\n",
    "import matplotlib.pyplot as plt\n",
    "from matplotlib import cm\n",
    "from matplotlib.ticker import LinearLocator\n",
    "import numpy as np"
   ]
  },
  {
   "cell_type": "code",
   "execution_count": 2,
   "metadata": {},
   "outputs": [],
   "source": [
    "df = pd.read_csv(\"Advertising.csv\", index_col = 0)"
   ]
  },
  {
   "cell_type": "code",
   "execution_count": 3,
   "metadata": {},
   "outputs": [
    {
     "data": {
      "text/html": [
       "<div>\n",
       "<style scoped>\n",
       "    .dataframe tbody tr th:only-of-type {\n",
       "        vertical-align: middle;\n",
       "    }\n",
       "\n",
       "    .dataframe tbody tr th {\n",
       "        vertical-align: top;\n",
       "    }\n",
       "\n",
       "    .dataframe thead th {\n",
       "        text-align: right;\n",
       "    }\n",
       "</style>\n",
       "<table border=\"1\" class=\"dataframe\">\n",
       "  <thead>\n",
       "    <tr style=\"text-align: right;\">\n",
       "      <th></th>\n",
       "      <th>TV</th>\n",
       "      <th>Radio</th>\n",
       "      <th>Newspaper</th>\n",
       "      <th>Sales</th>\n",
       "    </tr>\n",
       "  </thead>\n",
       "  <tbody>\n",
       "    <tr>\n",
       "      <th>1</th>\n",
       "      <td>230.1</td>\n",
       "      <td>37.8</td>\n",
       "      <td>69.2</td>\n",
       "      <td>22.1</td>\n",
       "    </tr>\n",
       "    <tr>\n",
       "      <th>2</th>\n",
       "      <td>44.5</td>\n",
       "      <td>39.3</td>\n",
       "      <td>45.1</td>\n",
       "      <td>10.4</td>\n",
       "    </tr>\n",
       "    <tr>\n",
       "      <th>3</th>\n",
       "      <td>17.2</td>\n",
       "      <td>45.9</td>\n",
       "      <td>69.3</td>\n",
       "      <td>9.3</td>\n",
       "    </tr>\n",
       "    <tr>\n",
       "      <th>4</th>\n",
       "      <td>151.5</td>\n",
       "      <td>41.3</td>\n",
       "      <td>58.5</td>\n",
       "      <td>18.5</td>\n",
       "    </tr>\n",
       "    <tr>\n",
       "      <th>5</th>\n",
       "      <td>180.8</td>\n",
       "      <td>10.8</td>\n",
       "      <td>58.4</td>\n",
       "      <td>12.9</td>\n",
       "    </tr>\n",
       "  </tbody>\n",
       "</table>\n",
       "</div>"
      ],
      "text/plain": [
       "      TV  Radio  Newspaper  Sales\n",
       "1  230.1   37.8       69.2   22.1\n",
       "2   44.5   39.3       45.1   10.4\n",
       "3   17.2   45.9       69.3    9.3\n",
       "4  151.5   41.3       58.5   18.5\n",
       "5  180.8   10.8       58.4   12.9"
      ]
     },
     "execution_count": 3,
     "metadata": {},
     "output_type": "execute_result"
    }
   ],
   "source": [
    "df.head()"
   ]
  },
  {
   "cell_type": "code",
   "execution_count": 4,
   "metadata": {},
   "outputs": [
    {
     "data": {
      "text/plain": [
       "3"
      ]
     },
     "execution_count": 4,
     "metadata": {},
     "output_type": "execute_result"
    }
   ],
   "source": [
    "reg = linear_model.LinearRegression()\n",
    "reg.fit(df[[\"TV\", \"Radio\", \"Newspaper\"]],df[[\"Sales\"]])\n",
    "reg.coef_\n",
    "reg.intercept_\n",
    "reg.coef_.shape[1]"
   ]
  },
  {
   "cell_type": "code",
   "execution_count": 5,
   "metadata": {},
   "outputs": [
    {
     "data": {
      "text/plain": [
       "1.575227256092437e-96"
      ]
     },
     "execution_count": 5,
     "metadata": {},
     "output_type": "execute_result"
    }
   ],
   "source": [
    "ssr = ((df[\"Sales\"].values.reshape(-1,1)-reg.predict(df[[\"TV\", \"Radio\", \"Newspaper\"]]))**2).sum()\n",
    "sst = ((df[\"Sales\"].values-df[\"Sales\"].values.mean())**2).sum()\n",
    "\n",
    "fstat = ((sst-ssr)/reg.coef_.shape[1])/(ssr/(len(df)-reg.coef_.shape[1]-1))\n",
    "fstat\n",
    "\n",
    "pval = stats.f(reg.coef_.shape[1], (len(df)-reg.coef_.shape[1]-1)).sf(fstat)\n",
    "pval"
   ]
  },
  {
   "cell_type": "code",
   "execution_count": 6,
   "metadata": {},
   "outputs": [
    {
     "data": {
      "text/plain": [
       "LinearRegression(copy_X=True, fit_intercept=True, n_jobs=None,\n",
       "         normalize=False)"
      ]
     },
     "execution_count": 6,
     "metadata": {},
     "output_type": "execute_result"
    }
   ],
   "source": [
    "reg = linear_model.LinearRegression()\n",
    "reg.fit(df[[\"TV\", \"Newspaper\"]], df[[\"Sales\"]])\n",
    "\n",
    "\n"
   ]
  },
  {
   "cell_type": "code",
   "execution_count": 14,
   "metadata": {},
   "outputs": [
    {
     "name": "stdout",
     "output_type": "stream",
     "text": [
      "(10000,)\n"
     ]
    },
    {
     "data": {
      "text/plain": [
       "(100, 100)"
      ]
     },
     "execution_count": 14,
     "metadata": {},
     "output_type": "execute_result"
    }
   ],
   "source": [
    "import statsmodels.formula.api as smf\n",
    "model = smf.ols(formula = 'Sales ~ TV + Newspaper', data = df)\n",
    "results_formula = model.fit()\n",
    "results_formula.params\n",
    "\n",
    "xsurf, ysurf = np.meshgrid(np.linspace(df[\"TV\"].values.min(),df[\"TV\"].values.max(),100), np.linspace(df[\"Newspaper\"].values.min(),df[\"Newspaper\"].values.max(),100))\n",
    "xy = pd.DataFrame({\"TV\": xsurf.ravel(), \"Newspaper\": ysurf.ravel()})\n",
    "\n",
    "fittedy = results_formula.predict(xy)\n",
    "\n",
    "print(fittedy.shape)\n",
    "\n",
    "fittedy = np.array(fittedy)\n",
    "\n",
    "fig = plt.figure(figsize = (10,10))\n",
    "ax = fig.add_subplot(111, projection='3d')\n",
    "\n",
    "ax.scatter(df[\"TV\"], df[\"Newspaper\"], df[\"Sales\"], c = \"red\", marker = \"o\", alpha = 0.5)\n",
    "ax.plot_surface(xsurf,ysurf,fittedy.reshape(xsurf.shape), color = \"None\", alpha = 0.3)\n",
    "plt.show()\n",
    "fittedy.reshape(xsurf.shape).shape\n"
   ]
  },
  {
   "cell_type": "code",
   "execution_count": 13,
   "metadata": {},
   "outputs": [
    {
     "name": "stdout",
     "output_type": "stream",
     "text": [
      "Using matplotlib backend: Qt5Agg\n"
     ]
    }
   ],
   "source": [
    "from matplotlib import cm\n",
    "\n",
    "%matplotlib\n",
    "\n",
    "xsurf, ysurf = np.meshgrid(np.linspace(df[\"TV\"].values.min(),df[\"TV\"].values.max(),100), np.linspace(df[\"Newspaper\"].values.min(),df[\"Newspaper\"].values.max(),100))\n",
    "xy = pd.DataFrame({\"TV\": xsurf.ravel(), \"Newspaper\": ysurf.ravel()})\n",
    "\n",
    "z = reg.predict(xy).reshape(xsurf.shape)\n",
    "\n",
    "fig = plt.figure(figsize = (10,10))\n",
    "graph1 = fig.add_subplot(111, projection = \"3d\")\n",
    "\n",
    "graph1.scatter(df[\"TV\"], df[\"Newspaper\"], df[\"Sales\"], c = \"red\", marker = \"o\", alpha = 0.5)\n",
    "graph1.plot_surface(xsurf,ysurf,z, cmap=cm.coolwarm)\n",
    "\n",
    "df2 = df[[\"TV\",\"Newspaper\",\"Sales\"]]\n",
    "pts = df2.values\n",
    "\n",
    "z = reg.predict(df[[\"TV\", \"Newspaper\"]])\n",
    "\n",
    "df3 = df2.copy()\n",
    "df3[\"Sales\"] = z\n",
    "\n",
    "pts_plano = df3.values\n",
    "\n",
    "for i in range(200):\n",
    "        graph1.plot([pts[i][0], pts_plano[i][0]], [pts[i][1], pts_plano[i][1]],zs=[pts[i][2], pts_plano[i][2]], c = \"black\")\n",
    "plt.show()"
   ]
  },
  {
   "cell_type": "code",
   "execution_count": 15,
   "metadata": {},
   "outputs": [
    {
     "data": {
      "text/plain": [
       "(230.1, 69.2, array([[19.62690144]]))"
      ]
     },
     "execution_count": 15,
     "metadata": {},
     "output_type": "execute_result"
    }
   ],
   "source": [
    "xpt = df[\"TV\"].values[0]\n",
    "ypt = df[\"Newspaper\"].values[0]\n",
    "\n",
    "xypt = np.array([[xpt,ypt],])\n",
    "\n",
    "zpt = reg.predict(xypt)\n",
    "\n",
    "xypt = np.array([[xpt,ypt],])\n",
    "xpt,ypt,zpt"
   ]
  },
  {
   "cell_type": "code",
   "execution_count": 17,
   "metadata": {},
   "outputs": [],
   "source": [
    "df2 = df[[\"TV\",\"Newspaper\",\"Sales\"]]\n",
    "pts = df2.values\n",
    "\n",
    "z = reg.predict(df[[\"TV\", \"Newspaper\"]])\n",
    "\n",
    "df3 = df2.copy()\n",
    "df3[\"Sales\"] = z\n",
    "\n",
    "pts_plano = df3.values\n",
    "\n",
    "for i in range(200):\n",
    "        graph1.plot([pts[i][0], pts_plano[i][0]], [pts[i][1], pts_plano[i][1]],zs=[pts[i][2], pts_plano[i][2]], c = \"black\")"
   ]
  },
  {
   "cell_type": "code",
   "execution_count": null,
   "metadata": {},
   "outputs": [],
   "source": []
  },
  {
   "cell_type": "code",
   "execution_count": null,
   "metadata": {},
   "outputs": [],
   "source": []
  }
 ],
 "metadata": {
  "kernelspec": {
   "display_name": "Python 3",
   "language": "python",
   "name": "python3"
  },
  "language_info": {
   "codemirror_mode": {
    "name": "ipython",
    "version": 3
   },
   "file_extension": ".py",
   "mimetype": "text/x-python",
   "name": "python",
   "nbconvert_exporter": "python",
   "pygments_lexer": "ipython3",
   "version": "3.7.3"
  }
 },
 "nbformat": 4,
 "nbformat_minor": 2
}
