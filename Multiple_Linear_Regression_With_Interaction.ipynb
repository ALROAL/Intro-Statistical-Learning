{
 "cells": [
  {
   "cell_type": "code",
   "execution_count": 1,
   "metadata": {},
   "outputs": [],
   "source": [
    "import pandas as pd\n",
    "import numpy as np\n",
    "import matplotlib.pyplot as plt\n",
    "from sklearn import linear_model\n",
    "import math\n",
    "from scipy import stats\n",
    "from mpl_toolkits.mplot3d import Axes3D\n",
    "import matplotlib.pyplot as plt\n",
    "from matplotlib import cm\n",
    "from matplotlib.ticker import LinearLocator\n",
    "import numpy as np"
   ]
  },
  {
   "cell_type": "code",
   "execution_count": 2,
   "metadata": {},
   "outputs": [],
   "source": [
    "df = pd.read_csv(\"Advertising.csv\", index_col = 0)"
   ]
  },
  {
   "cell_type": "code",
   "execution_count": 3,
   "metadata": {},
   "outputs": [
    {
     "data": {
      "text/html": [
       "<div>\n",
       "<style scoped>\n",
       "    .dataframe tbody tr th:only-of-type {\n",
       "        vertical-align: middle;\n",
       "    }\n",
       "\n",
       "    .dataframe tbody tr th {\n",
       "        vertical-align: top;\n",
       "    }\n",
       "\n",
       "    .dataframe thead th {\n",
       "        text-align: right;\n",
       "    }\n",
       "</style>\n",
       "<table border=\"1\" class=\"dataframe\">\n",
       "  <thead>\n",
       "    <tr style=\"text-align: right;\">\n",
       "      <th></th>\n",
       "      <th>TV</th>\n",
       "      <th>Radio</th>\n",
       "      <th>Newspaper</th>\n",
       "      <th>Sales</th>\n",
       "    </tr>\n",
       "  </thead>\n",
       "  <tbody>\n",
       "    <tr>\n",
       "      <td>1</td>\n",
       "      <td>230.1</td>\n",
       "      <td>37.8</td>\n",
       "      <td>69.2</td>\n",
       "      <td>22.1</td>\n",
       "    </tr>\n",
       "    <tr>\n",
       "      <td>2</td>\n",
       "      <td>44.5</td>\n",
       "      <td>39.3</td>\n",
       "      <td>45.1</td>\n",
       "      <td>10.4</td>\n",
       "    </tr>\n",
       "    <tr>\n",
       "      <td>3</td>\n",
       "      <td>17.2</td>\n",
       "      <td>45.9</td>\n",
       "      <td>69.3</td>\n",
       "      <td>9.3</td>\n",
       "    </tr>\n",
       "    <tr>\n",
       "      <td>4</td>\n",
       "      <td>151.5</td>\n",
       "      <td>41.3</td>\n",
       "      <td>58.5</td>\n",
       "      <td>18.5</td>\n",
       "    </tr>\n",
       "    <tr>\n",
       "      <td>5</td>\n",
       "      <td>180.8</td>\n",
       "      <td>10.8</td>\n",
       "      <td>58.4</td>\n",
       "      <td>12.9</td>\n",
       "    </tr>\n",
       "  </tbody>\n",
       "</table>\n",
       "</div>"
      ],
      "text/plain": [
       "      TV  Radio  Newspaper  Sales\n",
       "1  230.1   37.8       69.2   22.1\n",
       "2   44.5   39.3       45.1   10.4\n",
       "3   17.2   45.9       69.3    9.3\n",
       "4  151.5   41.3       58.5   18.5\n",
       "5  180.8   10.8       58.4   12.9"
      ]
     },
     "execution_count": 3,
     "metadata": {},
     "output_type": "execute_result"
    }
   ],
   "source": [
    "df.head()"
   ]
  },
  {
   "cell_type": "code",
   "execution_count": 4,
   "metadata": {},
   "outputs": [
    {
     "data": {
      "text/plain": [
       "3"
      ]
     },
     "execution_count": 4,
     "metadata": {},
     "output_type": "execute_result"
    }
   ],
   "source": [
    "reg = linear_model.LinearRegression()\n",
    "reg.fit(df[[\"TV\", \"Radio\", \"Newspaper\"]],df[[\"Sales\"]])\n",
    "reg.coef_\n",
    "reg.intercept_\n",
    "reg.coef_.shape[1]"
   ]
  },
  {
   "cell_type": "code",
   "execution_count": 5,
   "metadata": {},
   "outputs": [
    {
     "data": {
      "text/plain": [
       "1.575227256092437e-96"
      ]
     },
     "execution_count": 5,
     "metadata": {},
     "output_type": "execute_result"
    }
   ],
   "source": [
    "ssr = ((df[\"Sales\"].values.reshape(-1,1)-reg.predict(df[[\"TV\", \"Radio\", \"Newspaper\"]]))**2).sum()\n",
    "sst = ((df[\"Sales\"].values-df[\"Sales\"].values.mean())**2).sum()\n",
    "\n",
    "fstat = ((sst-ssr)/reg.coef_.shape[1])/(ssr/(len(df)-reg.coef_.shape[1]-1))\n",
    "fstat\n",
    "\n",
    "pval = stats.f(reg.coef_.shape[1], (len(df)-reg.coef_.shape[1]-1)).sf(fstat)\n",
    "pval"
   ]
  },
  {
   "cell_type": "code",
   "execution_count": 6,
   "metadata": {},
   "outputs": [
    {
     "data": {
      "text/plain": [
       "LinearRegression(copy_X=True, fit_intercept=True, n_jobs=None, normalize=False)"
      ]
     },
     "execution_count": 6,
     "metadata": {},
     "output_type": "execute_result"
    }
   ],
   "source": [
    "reg = linear_model.LinearRegression()\n",
    "reg.fit(df[[\"TV\", \"Newspaper\"]], df[[\"Sales\"]])"
   ]
  },
  {
   "cell_type": "code",
   "execution_count": 7,
   "metadata": {},
   "outputs": [
    {
     "data": {
      "text/plain": [
       "(array([0.01910107, 0.02886034, 0.00108649]), 6.750220203075112)"
      ]
     },
     "execution_count": 7,
     "metadata": {},
     "output_type": "execute_result"
    }
   ],
   "source": [
    "from sklearn.preprocessing import PolynomialFeatures\n",
    "\n",
    "poly = PolynomialFeatures(interaction_only=True,include_bias = False)\n",
    "x = poly.fit_transform(df[[\"TV\", \"Radio\"]])\n",
    "\n",
    "reg2 = linear_model.LinearRegression()\n",
    "reg2.fit(x, df[\"Sales\"])\n",
    "\n",
    "reg2.coef_,reg2.intercept_"
   ]
  },
  {
   "cell_type": "code",
   "execution_count": 8,
   "metadata": {},
   "outputs": [
    {
     "name": "stdout",
     "output_type": "stream",
     "text": [
      "Using matplotlib backend: Qt5Agg\n"
     ]
    }
   ],
   "source": [
    "from matplotlib import cm\n",
    "%matplotlib\n",
    "\n",
    "xsurf, ysurf = np.meshgrid(np.linspace(df[\"TV\"].values.min(),df[\"TV\"].values.max(),100), np.linspace(df[\"Radio\"].values.min(),df[\"Radio\"].values.max(),100))\n",
    "interaction = xsurf*ysurf\n",
    "xy = pd.DataFrame({\"TV\": xsurf.ravel(), \"Radio\": ysurf.ravel(), \"Interaction\": interaction.ravel()})\n",
    "\n",
    "z = reg2.predict(xy).reshape(xsurf.shape)\n",
    "\n",
    "fig = plt.figure(figsize = (10,10))\n",
    "graph1 = fig.add_subplot(111, projection = \"3d\")\n",
    "\n",
    "\n",
    "plt.xlabel(\"TV\")\n",
    "plt.ylabel(\"Radio\")\n",
    "graph1.scatter(df[\"TV\"], df[\"Radio\"], df[\"Sales\"], c = \"red\", marker = \"o\", alpha = 0.5)\n",
    "graph1.plot_surface(xsurf,ysurf,z,cmap=cm.coolwarm)\n",
    "\n",
    "\n",
    "df2 = df[[\"TV\",\"Radio\",\"Sales\"]]\n",
    "pts = df2.values\n",
    "\n",
    "interaction2 = df[\"TV\"].values*df[\"Radio\"].values\n",
    "\n",
    "df3 = df[[\"TV\",\"Radio\"]]\n",
    "df5 = df3.copy()\n",
    "df5[\"Interaction\"] = interaction2\n",
    "\n",
    "z_plano = reg2.predict(df5)\n",
    "\n",
    "df4 = df2.copy()\n",
    "df4[\"Sales\"] = z_plano\n",
    "\n",
    "pts_plano = df4.values\n",
    "\n",
    "for i in range(200):\n",
    "    graph1.plot([pts[i][0], pts_plano[i][0]], [pts[i][1], pts_plano[i][1]],zs=[pts[i][2], pts_plano[i][2]], c = \"black\")\n",
    "plt.show()"
   ]
  },
  {
   "cell_type": "code",
   "execution_count": null,
   "metadata": {},
   "outputs": [],
   "source": []
  }
 ],
 "metadata": {
  "kernelspec": {
   "display_name": "Python 3",
   "language": "python",
   "name": "python3"
  },
  "language_info": {
   "codemirror_mode": {
    "name": "ipython",
    "version": 3
   },
   "file_extension": ".py",
   "mimetype": "text/x-python",
   "name": "python",
   "nbconvert_exporter": "python",
   "pygments_lexer": "ipython3",
   "version": "3.7.4"
  }
 },
 "nbformat": 4,
 "nbformat_minor": 2
}
